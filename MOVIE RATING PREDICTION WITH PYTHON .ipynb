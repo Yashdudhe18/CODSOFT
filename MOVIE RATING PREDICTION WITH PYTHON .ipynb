{
 "cells": [
  {
   "cell_type": "markdown",
   "id": "2da2733e",
   "metadata": {},
   "source": [
    "# MOVIE RATING PREDICTION WITH PYTHON"
   ]
  },
  {
   "cell_type": "code",
   "execution_count": 1,
   "id": "b16ddf2b",
   "metadata": {},
   "outputs": [],
   "source": [
    "import numpy as np\n",
    "import pandas as pd  "
   ]
  },
  {
   "cell_type": "code",
   "execution_count": 2,
   "id": "93ba2c5b",
   "metadata": {},
   "outputs": [],
   "source": [
    "import os\n",
    "for dirname, _, filenames in os.walk('/kaggle/input'):\n",
    "    for filename in filenames:\n",
    "        print(os.path.join(dirname, filename))"
   ]
  },
  {
   "cell_type": "code",
   "execution_count": 3,
   "id": "f8cf6d62",
   "metadata": {},
   "outputs": [],
   "source": [
    "import pandas as pd \n",
    "import numpy as np \n",
    "import pandas as pd\n",
    "import numpy as np\n",
    "import matplotlib.pyplot as plt\n",
    "import seaborn as sns\n",
    "import matplotlib.pyplot as mpl\n",
    "\n",
    "import warnings\n",
    "warnings.filterwarnings(\"ignore\")"
   ]
  },
  {
   "cell_type": "code",
   "execution_count": 4,
   "id": "919d314d",
   "metadata": {},
   "outputs": [
    {
     "data": {
      "text/plain": [
       "'C:\\\\Users\\\\himanshu'"
      ]
     },
     "execution_count": 4,
     "metadata": {},
     "output_type": "execute_result"
    }
   ],
   "source": [
    "os.getcwd()"
   ]
  },
  {
   "cell_type": "code",
   "execution_count": 5,
   "id": "5e1b55f7",
   "metadata": {},
   "outputs": [],
   "source": [
    "os.chdir('C:\\\\Users\\\\himanshu\\\\Desktop')\n"
   ]
  },
  {
   "cell_type": "code",
   "execution_count": 6,
   "id": "af58af65",
   "metadata": {},
   "outputs": [],
   "source": [
    "data=pd.read_csv(\"imdb_top_1000.csv\",encoding='latin-1')"
   ]
  },
  {
   "cell_type": "code",
   "execution_count": 7,
   "id": "b862c7e7",
   "metadata": {},
   "outputs": [
    {
     "data": {
      "text/plain": [
       "<bound method NDFrame.head of                                            Poster_Link  \\\n",
       "0    https://m.media-amazon.com/images/M/MV5BMDFkYT...   \n",
       "1    https://m.media-amazon.com/images/M/MV5BM2MyNj...   \n",
       "2    https://m.media-amazon.com/images/M/MV5BMTMxNT...   \n",
       "3    https://m.media-amazon.com/images/M/MV5BMWMwMG...   \n",
       "4    https://m.media-amazon.com/images/M/MV5BMWU4N2...   \n",
       "..                                                 ...   \n",
       "995  https://m.media-amazon.com/images/M/MV5BNGEwMT...   \n",
       "996  https://m.media-amazon.com/images/M/MV5BODk3Yj...   \n",
       "997  https://m.media-amazon.com/images/M/MV5BM2U3Yz...   \n",
       "998  https://m.media-amazon.com/images/M/MV5BZTBmMj...   \n",
       "999  https://m.media-amazon.com/images/M/MV5BMTY5OD...   \n",
       "\n",
       "                 Series_Title Released_Year Certificate  Runtime  \\\n",
       "0    The Shawshank Redemption          1994           A  142 min   \n",
       "1               The Godfather          1972           A  175 min   \n",
       "2             The Dark Knight          2008          UA  152 min   \n",
       "3      The Godfather: Part II          1974           A  202 min   \n",
       "4                12 Angry Men          1957           U   96 min   \n",
       "..                        ...           ...         ...      ...   \n",
       "995    Breakfast at Tiffany's          1961           A  115 min   \n",
       "996                     Giant          1956           G  201 min   \n",
       "997     From Here to Eternity          1953      Passed  118 min   \n",
       "998                  Lifeboat          1944         NaN   97 min   \n",
       "999              The 39 Steps          1935         NaN   86 min   \n",
       "\n",
       "                        Genre  IMDB_Rating  \\\n",
       "0                       Drama          9.3   \n",
       "1                Crime, Drama          9.2   \n",
       "2        Action, Crime, Drama          9.0   \n",
       "3                Crime, Drama          9.0   \n",
       "4                Crime, Drama          9.0   \n",
       "..                        ...          ...   \n",
       "995    Comedy, Drama, Romance          7.6   \n",
       "996            Drama, Western          7.6   \n",
       "997       Drama, Romance, War          7.6   \n",
       "998                Drama, War          7.6   \n",
       "999  Crime, Mystery, Thriller          7.6   \n",
       "\n",
       "                                              Overview  Meta_score  \\\n",
       "0    Two imprisoned men bond over a number of years...        80.0   \n",
       "1    An organized crime dynasty's aging patriarch t...       100.0   \n",
       "2    When the menace known as the Joker wreaks havo...        84.0   \n",
       "3    The early life and career of Vito Corleone in ...        90.0   \n",
       "4    A jury holdout attempts to prevent a miscarria...        96.0   \n",
       "..                                                 ...         ...   \n",
       "995  A young New York socialite becomes interested ...        76.0   \n",
       "996  Sprawling epic covering the life of a Texas ca...        84.0   \n",
       "997  In Hawaii in 1941, a private is cruelly punish...        85.0   \n",
       "998  Several survivors of a torpedoed merchant ship...        78.0   \n",
       "999  A man in London tries to help a counter-espion...        93.0   \n",
       "\n",
       "                 Director              Star1              Star2  \\\n",
       "0          Frank Darabont        Tim Robbins     Morgan Freeman   \n",
       "1    Francis Ford Coppola      Marlon Brando          Al Pacino   \n",
       "2       Christopher Nolan     Christian Bale       Heath Ledger   \n",
       "3    Francis Ford Coppola          Al Pacino     Robert De Niro   \n",
       "4            Sidney Lumet        Henry Fonda        Lee J. Cobb   \n",
       "..                    ...                ...                ...   \n",
       "995         Blake Edwards     Audrey Hepburn     George Peppard   \n",
       "996        George Stevens   Elizabeth Taylor        Rock Hudson   \n",
       "997        Fred Zinnemann     Burt Lancaster   Montgomery Clift   \n",
       "998      Alfred Hitchcock  Tallulah Bankhead        John Hodiak   \n",
       "999      Alfred Hitchcock       Robert Donat  Madeleine Carroll   \n",
       "\n",
       "              Star3           Star4  No_of_Votes        Gross  \n",
       "0        Bob Gunton  William Sadler      2343110   28,341,469  \n",
       "1        James Caan    Diane Keaton      1620367  134,966,411  \n",
       "2     Aaron Eckhart   Michael Caine      2303232  534,858,444  \n",
       "3     Robert Duvall    Diane Keaton      1129952   57,300,000  \n",
       "4     Martin Balsam    John Fiedler       689845    4,360,000  \n",
       "..              ...             ...          ...          ...  \n",
       "995   Patricia Neal     Buddy Ebsen       166544          NaN  \n",
       "996      James Dean   Carroll Baker        34075          NaN  \n",
       "997    Deborah Kerr      Donna Reed        43374   30,500,000  \n",
       "998   Walter Slezak  William Bendix        26471          NaN  \n",
       "999  Lucie Mannheim  Godfrey Tearle        51853          NaN  \n",
       "\n",
       "[1000 rows x 16 columns]>"
      ]
     },
     "execution_count": 7,
     "metadata": {},
     "output_type": "execute_result"
    }
   ],
   "source": [
    "data.head"
   ]
  },
  {
   "cell_type": "code",
   "execution_count": 8,
   "id": "af0390d9",
   "metadata": {},
   "outputs": [
    {
     "data": {
      "text/plain": [
       "Poster_Link       object\n",
       "Series_Title      object\n",
       "Released_Year     object\n",
       "Certificate       object\n",
       "Runtime           object\n",
       "Genre             object\n",
       "IMDB_Rating      float64\n",
       "Overview          object\n",
       "Meta_score       float64\n",
       "Director          object\n",
       "Star1             object\n",
       "Star2             object\n",
       "Star3             object\n",
       "Star4             object\n",
       "No_of_Votes        int64\n",
       "Gross             object\n",
       "dtype: object"
      ]
     },
     "execution_count": 8,
     "metadata": {},
     "output_type": "execute_result"
    }
   ],
   "source": [
    "data.dtypes"
   ]
  },
  {
   "cell_type": "code",
   "execution_count": 9,
   "id": "53c2967e",
   "metadata": {},
   "outputs": [
    {
     "data": {
      "text/plain": [
       "Poster_Link        0\n",
       "Series_Title       0\n",
       "Released_Year      0\n",
       "Certificate      101\n",
       "Runtime            0\n",
       "Genre              0\n",
       "IMDB_Rating        0\n",
       "Overview           0\n",
       "Meta_score       157\n",
       "Director           0\n",
       "Star1              0\n",
       "Star2              0\n",
       "Star3              0\n",
       "Star4              0\n",
       "No_of_Votes        0\n",
       "Gross            169\n",
       "dtype: int64"
      ]
     },
     "execution_count": 9,
     "metadata": {},
     "output_type": "execute_result"
    }
   ],
   "source": [
    "data.isnull().sum()"
   ]
  },
  {
   "cell_type": "code",
   "execution_count": 10,
   "id": "eacaccdb",
   "metadata": {},
   "outputs": [
    {
     "name": "stdout",
     "output_type": "stream",
     "text": [
      "['Action', 'Romance', 'War', 'Biography', 'Mystery', 'Drama', 'Fantasy', 'History', 'Horror', 'Music', 'Family', 'Comedy', 'Animation', 'Thriller', 'Adventure', 'Film-Noir', 'Musical', 'Sci-Fi', 'Crime', 'Sport', 'Western']\n"
     ]
    }
   ],
   "source": [
    " # Create a new DataFrame for the genre data\n",
    "genre_data = data[['Genre']].copy()\n",
    "\n",
    "# Drop rows with missing values in the 'Genre' column\n",
    "genre_data.dropna(subset=['Genre'], inplace=True)\n",
    "\n",
    "# Combine all genres into a single string, separated by commas\n",
    "all_genres = \",\".join(genre_data['Genre'].tolist())\n",
    "\n",
    "# Split the combined string to get a list of all genres\n",
    "genre_list = all_genres.split(\",\")\n",
    "\n",
    "# Use a set to collect unique genres after stripping spaces\n",
    "unique_genres = set(genre.strip() for genre in genre_list)\n",
    "\n",
    "# Convert the set of unique genres back to a list\n",
    "unique_genres = list(unique_genres)\n",
    "\n",
    "# Print the unique genre names\n",
    "print(unique_genres)"
   ]
  },
  {
   "cell_type": "code",
   "execution_count": 11,
   "id": "d21960a1",
   "metadata": {},
   "outputs": [
    {
     "ename": "KeyError",
     "evalue": "'Column not found: Rating'",
     "output_type": "error",
     "traceback": [
      "\u001b[1;31m---------------------------------------------------------------------------\u001b[0m",
      "\u001b[1;31mKeyError\u001b[0m                                  Traceback (most recent call last)",
      "\u001b[1;32m<ipython-input-11-3c188b03ebdc>\u001b[0m in \u001b[0;36m<module>\u001b[1;34m\u001b[0m\n\u001b[0;32m     10\u001b[0m \u001b[1;33m\u001b[0m\u001b[0m\n\u001b[0;32m     11\u001b[0m \u001b[1;31m# Calculate the mean rating for each genre\u001b[0m\u001b[1;33m\u001b[0m\u001b[1;33m\u001b[0m\u001b[1;33m\u001b[0m\u001b[0m\n\u001b[1;32m---> 12\u001b[1;33m \u001b[0mgenre_mean_ratings\u001b[0m \u001b[1;33m=\u001b[0m \u001b[0mgenre_data\u001b[0m\u001b[1;33m.\u001b[0m\u001b[0mgroupby\u001b[0m\u001b[1;33m(\u001b[0m\u001b[1;34m'Genre'\u001b[0m\u001b[1;33m)\u001b[0m\u001b[1;33m[\u001b[0m\u001b[1;34m'Rating'\u001b[0m\u001b[1;33m]\u001b[0m\u001b[1;33m.\u001b[0m\u001b[0mmean\u001b[0m\u001b[1;33m(\u001b[0m\u001b[1;33m)\u001b[0m\u001b[1;33m.\u001b[0m\u001b[0mreset_index\u001b[0m\u001b[1;33m(\u001b[0m\u001b[1;33m)\u001b[0m\u001b[1;33m\u001b[0m\u001b[1;33m\u001b[0m\u001b[0m\n\u001b[0m\u001b[0;32m     13\u001b[0m \u001b[0mgenre_mean_ratings\u001b[0m\u001b[1;33m.\u001b[0m\u001b[0mcolumns\u001b[0m \u001b[1;33m=\u001b[0m \u001b[1;33m[\u001b[0m\u001b[1;34m'Genre'\u001b[0m\u001b[1;33m,\u001b[0m \u001b[1;34m'Mean Rating'\u001b[0m\u001b[1;33m]\u001b[0m\u001b[1;33m\u001b[0m\u001b[1;33m\u001b[0m\u001b[0m\n\u001b[0;32m     14\u001b[0m \u001b[1;33m\u001b[0m\u001b[0m\n",
      "\u001b[1;32m~\\anaconda3\\lib\\site-packages\\pandas\\core\\groupby\\generic.py\u001b[0m in \u001b[0;36m__getitem__\u001b[1;34m(self, key)\u001b[0m\n\u001b[0;32m   1540\u001b[0m                 \u001b[0mstacklevel\u001b[0m\u001b[1;33m=\u001b[0m\u001b[1;36m2\u001b[0m\u001b[1;33m,\u001b[0m\u001b[1;33m\u001b[0m\u001b[1;33m\u001b[0m\u001b[0m\n\u001b[0;32m   1541\u001b[0m             )\n\u001b[1;32m-> 1542\u001b[1;33m         \u001b[1;32mreturn\u001b[0m \u001b[0msuper\u001b[0m\u001b[1;33m(\u001b[0m\u001b[1;33m)\u001b[0m\u001b[1;33m.\u001b[0m\u001b[0m__getitem__\u001b[0m\u001b[1;33m(\u001b[0m\u001b[0mkey\u001b[0m\u001b[1;33m)\u001b[0m\u001b[1;33m\u001b[0m\u001b[1;33m\u001b[0m\u001b[0m\n\u001b[0m\u001b[0;32m   1543\u001b[0m \u001b[1;33m\u001b[0m\u001b[0m\n\u001b[0;32m   1544\u001b[0m     \u001b[1;32mdef\u001b[0m \u001b[0m_gotitem\u001b[0m\u001b[1;33m(\u001b[0m\u001b[0mself\u001b[0m\u001b[1;33m,\u001b[0m \u001b[0mkey\u001b[0m\u001b[1;33m,\u001b[0m \u001b[0mndim\u001b[0m\u001b[1;33m:\u001b[0m \u001b[0mint\u001b[0m\u001b[1;33m,\u001b[0m \u001b[0msubset\u001b[0m\u001b[1;33m=\u001b[0m\u001b[1;32mNone\u001b[0m\u001b[1;33m)\u001b[0m\u001b[1;33m:\u001b[0m\u001b[1;33m\u001b[0m\u001b[1;33m\u001b[0m\u001b[0m\n",
      "\u001b[1;32m~\\anaconda3\\lib\\site-packages\\pandas\\core\\base.py\u001b[0m in \u001b[0;36m__getitem__\u001b[1;34m(self, key)\u001b[0m\n\u001b[0;32m    278\u001b[0m             \u001b[1;31m# error: \"SelectionMixin\" has no attribute \"obj\"  [attr-defined]\u001b[0m\u001b[1;33m\u001b[0m\u001b[1;33m\u001b[0m\u001b[1;33m\u001b[0m\u001b[0m\n\u001b[0;32m    279\u001b[0m             \u001b[1;32mif\u001b[0m \u001b[0mkey\u001b[0m \u001b[1;32mnot\u001b[0m \u001b[1;32min\u001b[0m \u001b[0mself\u001b[0m\u001b[1;33m.\u001b[0m\u001b[0mobj\u001b[0m\u001b[1;33m:\u001b[0m  \u001b[1;31m# type: ignore[attr-defined]\u001b[0m\u001b[1;33m\u001b[0m\u001b[1;33m\u001b[0m\u001b[0m\n\u001b[1;32m--> 280\u001b[1;33m                 \u001b[1;32mraise\u001b[0m \u001b[0mKeyError\u001b[0m\u001b[1;33m(\u001b[0m\u001b[1;34mf\"Column not found: {key}\"\u001b[0m\u001b[1;33m)\u001b[0m\u001b[1;33m\u001b[0m\u001b[1;33m\u001b[0m\u001b[0m\n\u001b[0m\u001b[0;32m    281\u001b[0m             \u001b[1;32mreturn\u001b[0m \u001b[0mself\u001b[0m\u001b[1;33m.\u001b[0m\u001b[0m_gotitem\u001b[0m\u001b[1;33m(\u001b[0m\u001b[0mkey\u001b[0m\u001b[1;33m,\u001b[0m \u001b[0mndim\u001b[0m\u001b[1;33m=\u001b[0m\u001b[1;36m1\u001b[0m\u001b[1;33m)\u001b[0m\u001b[1;33m\u001b[0m\u001b[1;33m\u001b[0m\u001b[0m\n\u001b[0;32m    282\u001b[0m \u001b[1;33m\u001b[0m\u001b[0m\n",
      "\u001b[1;31mKeyError\u001b[0m: 'Column not found: Rating'"
     ]
    }
   ],
   "source": [
    "# Split the 'Genre' column by commas and create a list of genres for each row\n",
    "data['Genre'] = data['Genre'].str.split(', ')\n",
    "\n",
    "# Create a new DataFrame to store the expanded genre data\n",
    "genre_data = data.explode('Genre')\n",
    "\n",
    "# Calculate the count of movies for each genre\n",
    "genre_counts = genre_data['Genre'].value_counts().reset_index()\n",
    "genre_counts.columns = ['Genre', 'Count']\n",
    "\n",
    "# Calculate the mean rating for each genre\n",
    "genre_mean_ratings = genre_data.groupby('Genre')['Rating'].mean().reset_index()\n",
    "genre_mean_ratings.columns = ['Genre', 'Mean Rating']\n",
    "\n",
    "# Merge the counts and mean ratings into a single DataFrame\n",
    "genre_stats = pd.merge(genre_counts, genre_mean_ratings, on='Genre')\n",
    "\n",
    "# Display the resulting DataFrame\n",
    "print(genre_stats)"
   ]
  },
  {
   "cell_type": "code",
   "execution_count": null,
   "id": "1ce8eb1f",
   "metadata": {},
   "outputs": [],
   "source": [
    "data.describe(include = 'O')"
   ]
  },
  {
   "cell_type": "code",
   "execution_count": null,
   "id": "6be338e5",
   "metadata": {},
   "outputs": [],
   "source": [
    "# Remove rows with missing values in the 'Rating' column\n",
    "data = data.dropna(subset=['Rating'])\n",
    "\n",
    "#Reset the index after removing rows\n",
    "data.reset_index(drop=True, inplace=True)"
   ]
  },
  {
   "cell_type": "code",
   "execution_count": null,
   "id": "41d050dc",
   "metadata": {},
   "outputs": [],
   "source": [
    "data.isnull().sum()"
   ]
  },
  {
   "cell_type": "code",
   "execution_count": null,
   "id": "6fb3fb12",
   "metadata": {},
   "outputs": [],
   "source": [
    "data.dropna(subset=['Name', 'Year', 'Duration', 'Rating', 'Votes', 'Director', 'Actor 1', 'Actor 2', 'Actor 3'], inplace=True)"
   ]
  },
  {
   "cell_type": "code",
   "execution_count": null,
   "id": "f9c1927c",
   "metadata": {},
   "outputs": [],
   "source": [
    "data['Year'] = data['Year'].str.replace(r'\\D', '', regex=True).astype(int)"
   ]
  },
  {
   "cell_type": "code",
   "execution_count": null,
   "id": "695ce1bd",
   "metadata": {},
   "outputs": [],
   "source": [
    "data['Duration'] = data['Duration'].str.replace(r'\\D', '', regex=True).astype(float)"
   ]
  },
  {
   "cell_type": "code",
   "execution_count": null,
   "id": "d4eb40b3",
   "metadata": {},
   "outputs": [],
   "source": [
    "data['Votes'] = data['Votes'].str.replace(',', '', regex=True).astype(int)"
   ]
  },
  {
   "cell_type": "code",
   "execution_count": null,
   "id": "2d85371d",
   "metadata": {},
   "outputs": [],
   "source": [
    "median_duration = data['Duration'].median()\n",
    "\n",
    "# Fill missing values in the 'Duration' column with the median value\n",
    "data['Duration'].fillna(median_duration, inplace=True)"
   ]
  },
  {
   "cell_type": "code",
   "execution_count": null,
   "id": "7ee18c37",
   "metadata": {},
   "outputs": [],
   "source": [
    "data.dtypes"
   ]
  },
  {
   "cell_type": "code",
   "execution_count": null,
   "id": "cbb5ca0c",
   "metadata": {},
   "outputs": [],
   "source": [
    "data.describe(include = 'O')"
   ]
  },
  {
   "cell_type": "code",
   "execution_count": null,
   "id": "e7ca17ff",
   "metadata": {},
   "outputs": [],
   "source": [
    "genre_stats = genre_stats.sort_values(by='Count', ascending=False)\n",
    "\n",
    "# Create a bar plot\n",
    "plt.figure(figsize=(12, 6))\n",
    "plt.bar(genre_stats['Genre'], genre_stats['Count'])\n",
    "plt.xlabel('Genre')\n",
    "plt.ylabel('Count of Movies')\n",
    "plt.title('Count of Movies by Genre')\n",
    "plt.xticks(rotation=90)  # Rotate x-axis labels for better readability\n",
    "plt.show()"
   ]
  },
  {
   "cell_type": "code",
   "execution_count": null,
   "id": "1bba0f8c",
   "metadata": {},
   "outputs": [],
   "source": [
    "data.loc[data['Rating']==data['Rating'].max()]"
   ]
  },
  {
   "cell_type": "code",
   "execution_count": null,
   "id": "b071a66a",
   "metadata": {},
   "outputs": [],
   "source": [
    "data.loc[(data['Rating'].min()==data['Rating']) ]"
   ]
  },
  {
   "cell_type": "code",
   "execution_count": null,
   "id": "76f05d65",
   "metadata": {},
   "outputs": [],
   "source": [
    "acts = data[['Actor 1', 'Actor 2', 'Actor 3']].value_counts().sort_values(ascending=False).head(10)\n",
    "acts"
   ]
  },
  {
   "cell_type": "code",
   "execution_count": null,
   "id": "608ab285",
   "metadata": {},
   "outputs": [],
   "source": [
    "acts1 = data['Actor 1'].value_counts().sort_values(ascending=False).head(10)\n",
    "acts1"
   ]
  },
  {
   "cell_type": "code",
   "execution_count": null,
   "id": "ac31e2ce",
   "metadata": {},
   "outputs": [],
   "source": [
    "acts2 = data['Actor 2'].value_counts().sort_values(ascending=False).head(10)\n",
    "acts2"
   ]
  },
  {
   "cell_type": "code",
   "execution_count": null,
   "id": "a3afc575",
   "metadata": {},
   "outputs": [],
   "source": [
    "acts3 = data['Actor 3'].value_counts().sort_values(ascending=False).head(10)\n",
    "acts3"
   ]
  },
  {
   "cell_type": "code",
   "execution_count": null,
   "id": "875f3a62",
   "metadata": {},
   "outputs": [],
   "source": [
    "top_20_rated_movies_of_actor=data[(data['Rating']>=7)]['Actor 1'].head(20)"
   ]
  },
  {
   "cell_type": "code",
   "execution_count": null,
   "id": "8b8bb436",
   "metadata": {},
   "outputs": [],
   "source": [
    "top_20_actor=data.groupby(top_20_rated_movies_of_actor)['Rating'].mean()\n",
    "top_20_actor"
   ]
  },
  {
   "cell_type": "code",
   "execution_count": null,
   "id": "1ef0a8fa",
   "metadata": {},
   "outputs": [],
   "source": [
    "plt.bar(top_20_actor.index,top_20_actor.values)\n",
    "plt.xlabel(\"Top 20 Actors\")\n",
    "plt.ylabel(\"Average Rating\")\n",
    "plt.title(\"Average Rating of Top 20 actors\")\n",
    "plt.xticks(rotation='vertical', fontsize=8)\n",
    "plt.show()"
   ]
  },
  {
   "cell_type": "code",
   "execution_count": null,
   "id": "0e3688e9",
   "metadata": {},
   "outputs": [],
   "source": [
    "top_20_rated_movies_of_director=data[(data['Rating']>=7)]['Director'].head(20)"
   ]
  },
  {
   "cell_type": "code",
   "execution_count": null,
   "id": "124dd743",
   "metadata": {},
   "outputs": [],
   "source": [
    "data.groupby(top_20_rated_movies_of_director)['Rating'].mean()"
   ]
  },
  {
   "cell_type": "code",
   "execution_count": null,
   "id": "03dac715",
   "metadata": {},
   "outputs": [],
   "source": [
    "correlation_matrix = data[['Year', 'Duration', 'Rating', 'Votes']].corr()\n",
    "\n",
    "plt.figure(figsize=(10, 8))  # Set the size of the heatmap\n",
    "sns.heatmap(correlation_matrix, annot=True, cmap=\"coolwarm\", linewidths=.5)\n",
    "\n",
    "plt.title(\"Correlation Heatmap\")\n",
    "plt.show()"
   ]
  },
  {
   "cell_type": "code",
   "execution_count": null,
   "id": "10a5df78",
   "metadata": {},
   "outputs": [],
   "source": [
    "# Make sure 'Year' and 'Rating' columns are in the correct data types (int and float)\n",
    "data['Year'] = data['Year'].astype(int)\n",
    "data['Rating'] = data['Rating'].astype(float)\n",
    "\n",
    "# Group data by year and calculate the mean rating for each year\n",
    "ratings_by_year = data.groupby('Year')['Rating'].mean()\n",
    "\n",
    "# Create a time series plot for movie ratings over the years\n",
    "plt.figure(figsize=(10, 6))\n",
    "ratings_by_year.plot()\n",
    "plt.title('Movie Ratings Over the Years')\n",
    "plt.xlabel('Year')\n",
    "plt.ylabel('Average Rating')\n",
    "plt.show()"
   ]
  },
  {
   "cell_type": "code",
   "execution_count": null,
   "id": "7a13d09b",
   "metadata": {},
   "outputs": [],
   "source": [
    "# Make sure the 'Year' column is in the correct data type (int)\n",
    "data['Year'] = data['Year'].astype(int)\n",
    "\n",
    "# Group data by year and calculate the count of movies for each year\n",
    "movies_by_year = data.groupby('Year').size()\n",
    "\n",
    "# Create a time series plot for the number of movies released over the years\n",
    "plt.figure(figsize=(12, 6))\n",
    "plt.plot(movies_by_year.index, movies_by_year.values)\n",
    "plt.title('Number of Movies Released Over the Years', fontsize = 15)\n",
    "plt.xlabel('Year', fontsize =14)\n",
    "plt.ylabel('Number of Movies', fontsize= 14)\n",
    "plt.show()"
   ]
  },
  {
   "cell_type": "code",
   "execution_count": null,
   "id": "2135df76",
   "metadata": {},
   "outputs": [],
   "source": [
    "plt.figure(figsize=(12, 6))\n",
    "\n",
    "# Count the number of movies for each actor, sort in descending order, and select the top 10\n",
    "top_actors = data['Actor 1'].value_counts().sort_values(ascending=False).head(10)\n",
    "\n",
    "# Create a bar plot for the top 10 actors with the most movies\n",
    "top_actors.plot(kind='bar')\n",
    "plt.title('Top 10 Actors with the Most Movies')\n",
    "plt.xlabel('Actor')\n",
    "plt.ylabel('Number of Movies')\n",
    "plt.xticks(rotation=90)  # Rotate actor names for better visibility\n",
    "plt.show()"
   ]
  },
  {
   "cell_type": "code",
   "execution_count": null,
   "id": "b74a2ad5",
   "metadata": {},
   "outputs": [],
   "source": [
    "plt.figure(figsize=(12, 6))\n",
    "\n",
    "# Count the number of movies for each director, sort in descending order, and select the top 10\n",
    "top_directors = data['Director'].value_counts().sort_values(ascending=False).head(10)\n",
    "\n",
    "# Create a bar plot for the top 10 directors with the most movies\n",
    "top_directors.plot(kind='bar')\n",
    "plt.title('Top 10 Directors with the Most Movies')\n",
    "plt.xlabel('Director')\n",
    "plt.ylabel('Number of Movies')\n",
    "plt.xticks(rotation=90)  # Rotate director names for better visibility\n",
    "plt.show()"
   ]
  },
  {
   "cell_type": "code",
   "execution_count": null,
   "id": "e4de2092",
   "metadata": {},
   "outputs": [],
   "source": [
    "from sklearn.linear_model import LinearRegression\n",
    "from sklearn.ensemble import RandomForestRegressor\n",
    "\n",
    "from sklearn.model_selection import train_test_split, cross_val_score\n",
    "\n",
    "from sklearn.metrics import accuracy_score, mean_absolute_error, mean_squared_error, r2_score"
   ]
  },
  {
   "cell_type": "code",
   "execution_count": null,
   "id": "5d2428a5",
   "metadata": {},
   "outputs": [],
   "source": [
    "datamodel = data[['Year', 'Votes', 'Duration', 'Director','Actor 1', 'Actor 2', 'Actor 3', 'Rating']]"
   ]
  },
  {
   "cell_type": "code",
   "execution_count": null,
   "id": "897c774e",
   "metadata": {},
   "outputs": [],
   "source": [
    "director_mean_rating = datamodel.groupby('Director')['Rating'].transform('mean')\n",
    "datamodel['Director_encoded'] = director_mean_rating\n",
    "\n",
    "actor1_mean_rating = datamodel.groupby('Actor 1')['Rating'].transform('mean')\n",
    "datamodel['Actor1_encoded'] = actor1_mean_rating\n",
    "\n",
    "actor2_mean_rating = datamodel.groupby('Actor 2')['Rating'].transform('mean')\n",
    "datamodel['Actor2_encoded'] = actor2_mean_rating\n",
    "\n",
    "actor3_mean_rating = datamodel.groupby('Actor 3')['Rating'].transform('mean')\n",
    "datamodel['Actor3_encoded'] = actor3_mean_rating"
   ]
  },
  {
   "cell_type": "code",
   "execution_count": null,
   "id": "255b718a",
   "metadata": {},
   "outputs": [],
   "source": [
    "X = datamodel[[ 'Year', 'Votes', 'Duration','Director_encoded','Actor1_encoded', 'Actor2_encoded', 'Actor3_encoded']]\n",
    "y = datamodel['Rating']\n",
    "\n",
    "X_train,X_test,y_train,y_test = train_test_split(X,y,test_size=0.3,random_state=24)"
   ]
  },
  {
   "cell_type": "code",
   "execution_count": null,
   "id": "2d70eef4",
   "metadata": {},
   "outputs": [],
   "source": [
    "lr = LinearRegression()\n",
    "lr.fit(X_train,y_train)\n",
    "lr_pred = lr.predict(X_test)\n",
    "\n",
    "#Random Forest\n",
    "rf = RandomForestRegressor()\n",
    "rf.fit(X_train,y_train)\n",
    "rf_pred = rf.predict(X_test)"
   ]
  },
  {
   "cell_type": "code",
   "execution_count": null,
   "id": "eb24e7c3",
   "metadata": {},
   "outputs": [],
   "source": [
    "print('Logistic Regression Model Performance: ')\n",
    "print('Mean squared error: ',mean_squared_error(y_test, lr_pred))\n",
    "print('Mean absolute error: ',mean_absolute_error(y_test, lr_pred))\n",
    "print('R2 score: ',r2_score(y_test, lr_pred))\n",
    "print()\n",
    "\n",
    "print('Random Forest Regressor Model Performance: ')\n",
    "print('Mean squared error: ',mean_squared_error(y_test, rf_pred))\n",
    "print('Mean absolute error: ',mean_absolute_error(y_test, rf_pred))\n",
    "print('R2 score: ',r2_score(y_test, rf_pred))"
   ]
  },
  {
   "cell_type": "code",
   "execution_count": null,
   "id": "1e7b7337",
   "metadata": {},
   "outputs": [],
   "source": [
    "data = {'Year': [2016], 'Votes': [58], 'Duration': [121], 'Director_encoded': [5.8], 'Actor1_encoded': [5.9], 'Actor2_encoded': [5.9], 'Actor3_encoded': [5.900]}\n",
    "df = pd.DataFrame(data)\n",
    "\n",
    "predicted_rating = rf.predict(df)\n",
    "\n",
    "# Display the predicted rating\n",
    "print(\"Predicted Rating:\", predicted_rating[0])"
   ]
  }
 ],
 "metadata": {
  "kernelspec": {
   "display_name": "Python 3",
   "language": "python",
   "name": "python3"
  },
  "language_info": {
   "codemirror_mode": {
    "name": "ipython",
    "version": 3
   },
   "file_extension": ".py",
   "mimetype": "text/x-python",
   "name": "python",
   "nbconvert_exporter": "python",
   "pygments_lexer": "ipython3",
   "version": "3.8.8"
  }
 },
 "nbformat": 4,
 "nbformat_minor": 5
}
